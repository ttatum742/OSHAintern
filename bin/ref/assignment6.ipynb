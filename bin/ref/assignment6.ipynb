{
 "cells": [
  {
   "cell_type": "code",
   "execution_count": 1,
   "metadata": {},
   "outputs": [],
   "source": [
    "import numpy as np\n",
    "import pandas as pd\n",
    "import string\n",
    "from pandas import Series"
   ]
  },
  {
   "cell_type": "code",
   "execution_count": 2,
   "metadata": {},
   "outputs": [],
   "source": [
    "data = pd.read_csv(\"data/twcs.csv\", encoding='utf-8', )"
   ]
  },
  {
   "cell_type": "markdown",
   "metadata": {},
   "source": [
    "1.\tHow many tweets are in the data?"
   ]
  },
  {
   "cell_type": "code",
   "execution_count": 3,
   "metadata": {},
   "outputs": [
    {
     "data": {
      "text/plain": [
       "2811774"
      ]
     },
     "execution_count": 3,
     "metadata": {},
     "output_type": "execute_result"
    }
   ],
   "source": [
    "len(data)"
   ]
  },
  {
   "cell_type": "markdown",
   "metadata": {},
   "source": [
    "2.\tSome of the tweets contain languages other than English. Demonstrate this by printing the tweet with the tweet_id 269."
   ]
  },
  {
   "cell_type": "code",
   "execution_count": 4,
   "metadata": {},
   "outputs": [],
   "source": [
    "# First let's make this an array\n",
    "dataarray = np.asarray(data)"
   ]
  },
  {
   "cell_type": "code",
   "execution_count": 5,
   "metadata": {},
   "outputs": [],
   "source": [
    "# define our lookup function\n",
    "def tweet_print(x):\n",
    "    tweetindices = np.where(dataarray == x)[0]\n",
    "    tweetlist = dataarray[tweetindices,4]\n",
    "    return print(str(tweetlist))"
   ]
  },
  {
   "cell_type": "code",
   "execution_count": 6,
   "metadata": {},
   "outputs": [
    {
     "name": "stdout",
     "output_type": "stream",
     "text": [
      "['@115770 こんにちは、アマゾン公式です。Fire TV Stickが見れないというのは、どのような状況でしょうか。一般的なトラブルシューティングを記載したヘルプがございますので、ご参照ください。https://t.co/2pbG55qJ7h ET'\n",
      " '@AmazonHelp ありがとうございます。\\n今、電話で主人が対応していただいてます。'\n",
      " '@AmazonHelp 電話で対応してもらいましたが改良されませんでした。\\n保証期間も過ぎてるので買い直しになるんでしょうね。']\n"
     ]
    }
   ],
   "source": [
    "tweet_print(269)"
   ]
  },
  {
   "cell_type": "markdown",
   "metadata": {},
   "source": [
    "3.\tHow many tweets contain at least 50% non-English characters? For the purpose of this question, \"English\" means an alphanumerical character. (Recall that in regular expressions, \"\" is an alphanumerical character.)"
   ]
  },
  {
   "cell_type": "code",
   "execution_count": 7,
   "metadata": {},
   "outputs": [
    {
     "name": "stdout",
     "output_type": "stream",
     "text": [
      "Number of tweets with a majority of the characters not being alphanumeric English: 3933\n"
     ]
    }
   ],
   "source": [
    "TweetText_df = pd.DataFrame(data[\"text\"])   # dataframe with just the text column. \n",
    "minidf = TweetText_df.head()    # Test Dataframe to conserve resources\n",
    "\n",
    "NonEnglish_count = 0\n",
    "\n",
    "for index in range(TweetText_df.shape[0]):\n",
    "    \n",
    "    EnglishRatio = 0    \n",
    "    alphabets = 0\n",
    "\n",
    "   # Select column by index position using iloc[]\n",
    "    columnSeriesObj = TweetText_df.iloc[index, :]\n",
    "    columnSeriesObj = str(columnSeriesObj.values)\n",
    "\n",
    "    for i in range(len(columnSeriesObj)):\n",
    "        if(columnSeriesObj[i].isalnum()):\n",
    "            alphabets = alphabets + 1\n",
    "\n",
    "    EnglishRatio = (alphabets / len(columnSeriesObj))\n",
    "    if(EnglishRatio <= 0.5):\n",
    "        NonEnglish_count = NonEnglish_count + 1\n",
    "\n",
    "print(\"Number of tweets with a majority of the characters not being alphanumeric English: \" + str(NonEnglish_count))\n"
   ]
  },
  {
   "cell_type": "markdown",
   "metadata": {},
   "source": [
    "4.\tHow many unique twitter names are used in the tweets? "
   ]
  },
  {
   "cell_type": "code",
   "execution_count": 8,
   "metadata": {},
   "outputs": [
    {
     "name": "stdout",
     "output_type": "stream",
     "text": [
      "550\n"
     ]
    }
   ],
   "source": [
    "names = {}\n",
    "for record in data.text.str.findall(\"@\\w+\"):\n",
    "    for name in record:\n",
    "        if name in names:\n",
    "            names[name] += 1\n",
    "        else:\n",
    "            names[name] = 1\n",
    "uniqueNames = set(names.values())\n",
    "print(len(uniqueNames))"
   ]
  },
  {
   "cell_type": "markdown",
   "metadata": {},
   "source": [
    "5.\tWhat are the top 10 usernames that appear in the file? That is, count how many times each username is used in a tweet and determine the 10 usernames with the highest count."
   ]
  },
  {
   "cell_type": "code",
   "execution_count": 14,
   "metadata": {},
   "outputs": [
    {
     "name": "stdout",
     "output_type": "stream",
     "text": [
      "@AmazonHelp 136815\n",
      "@AppleSupport 98024\n",
      "@AmericanAir 50507\n",
      "@Uber_Support 47226\n",
      "@Delta 42559\n",
      "@115858 40726\n",
      "@VirginTrains 37592\n",
      "@SouthwestAir 34375\n",
      "@Tesco 34087\n",
      "@SpotifyCares 31214\n"
     ]
    }
   ],
   "source": [
    "from collections import Counter\n",
    "\n",
    "nameCounts = Counter(names)\n",
    "for item, frequency in nameCounts.most_common(10):\n",
    "    print(item, frequency)"
   ]
  },
  {
   "cell_type": "markdown",
   "metadata": {},
   "source": [
    "6.\tHow many unique hashtags are used in the tweets? Hashtags can be identified in a tweet with a word that starts with an # followed by a combination of alphanumeric characters and underscores."
   ]
  },
  {
   "cell_type": "code",
   "execution_count": 15,
   "metadata": {},
   "outputs": [
    {
     "name": "stdout",
     "output_type": "stream",
     "text": [
      "253\n"
     ]
    }
   ],
   "source": [
    "hashtags = {}\n",
    "for record in data.text.str.findall(\"#\\w+\"):\n",
    "    for hashtag in record:\n",
    "        if hashtag in hashtags:\n",
    "            hashtags[hashtag] += 1\n",
    "        else:\n",
    "            hashtags[hashtag] = 1\n",
    "uniqueHashtags = set(hashtags.values())\n",
    "print(len(uniqueHashtags))"
   ]
  },
  {
   "cell_type": "markdown",
   "metadata": {},
   "source": [
    "7.\tWhat are the top 10 hashtags that appear in the file? That is, count how many times each hashtags is used in a tweet and determine the 10 hashtags with the highest count."
   ]
  },
  {
   "cell_type": "code",
   "execution_count": 16,
   "metadata": {},
   "outputs": [
    {
     "name": "stdout",
     "output_type": "stream",
     "text": [
      "#mobile_Care 2151\n",
      "#AATeam 1621\n",
      "#fail 1604\n",
      "#Amazon 1385\n",
      "#iPhoneX 1247\n",
      "#iOS11 1226\n",
      "#hppsdr 1208\n",
      "#help 1116\n",
      "#mobile_CareXI 1050\n",
      "#CustomerService 1030\n"
     ]
    }
   ],
   "source": [
    "hashCounts = Counter(hashtags)\n",
    "for item, frequency in hashCounts.most_common(10):\n",
    "    print(item, frequency)"
   ]
  },
  {
   "cell_type": "markdown",
   "metadata": {},
   "source": [
    "8.\tExcluding hashtags and usernames, what words are used most often in tweets? Display the top 20 words. "
   ]
  },
  {
   "cell_type": "code",
   "execution_count": 17,
   "metadata": {},
   "outputs": [
    {
     "name": "stdout",
     "output_type": "stream",
     "text": [
      "3730\n"
     ]
    }
   ],
   "source": [
    "words = {}\n",
    "for record in data.text.str.findall(\"\\w+\"):\n",
    "    for word in record:\n",
    "        if word in words:\n",
    "            words[word] += 1\n",
    "        else:\n",
    "            words[word] = 1\n",
    "uniqueWords = set(words.values())\n",
    "print(len(uniqueWords))\n"
   ]
  },
  {
   "cell_type": "code",
   "execution_count": 18,
   "metadata": {},
   "outputs": [
    {
     "name": "stdout",
     "output_type": "stream",
     "text": [
      "to 1678110\n",
      "the 1408278\n",
      "you 1264791\n",
      "I 1150250\n",
      "t 1011175\n",
      "a 871090\n",
      "and 801287\n",
      "for 754319\n",
      "your 682990\n",
      "co 655783\n",
      "https 654355\n",
      "this 532361\n",
      "it 497161\n",
      "on 485666\n",
      "is 481528\n",
      "can 474940\n",
      "in 466975\n",
      "us 445284\n",
      "with 443041\n",
      "We 429083\n"
     ]
    }
   ],
   "source": [
    "\n",
    "wordCounts = Counter(words)\n",
    "for item, frequency in wordCounts.most_common(20):\n",
    "    print(item, frequency)"
   ]
  }
 ],
 "metadata": {
  "kernelspec": {
   "display_name": "Python 3.9.2 64-bit",
   "language": "python",
   "name": "python3"
  },
  "language_info": {
   "codemirror_mode": {
    "name": "ipython",
    "version": 3
   },
   "file_extension": ".py",
   "mimetype": "text/x-python",
   "name": "python",
   "nbconvert_exporter": "python",
   "pygments_lexer": "ipython3",
   "version": "3.9.2"
  },
  "orig_nbformat": 4,
  "vscode": {
   "interpreter": {
    "hash": "0bd840e487967418d9f3fd7988cd58adc980514e4b12e0e79b200728646d598c"
   }
  }
 },
 "nbformat": 4,
 "nbformat_minor": 2
}
