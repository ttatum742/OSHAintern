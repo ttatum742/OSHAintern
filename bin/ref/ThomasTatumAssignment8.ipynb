{
 "cells": [
  {
   "cell_type": "markdown",
   "metadata": {},
   "source": [
    "Thomas Tatum - Assignment 8 - CSCI 5015 - Data Science in Python - Due 8/1/22"
   ]
  },
  {
   "cell_type": "code",
   "execution_count": 182,
   "metadata": {},
   "outputs": [],
   "source": [
    "# Importing HW7 stuff\n",
    "\n",
    "import pandas as pd\n",
    "import numpy as np\n",
    "\n",
    "tn = pd.read_csv(\n",
    "    \"data/TN.TXT\", names=[\"state\", \"sex\", \"year\", \"name\", \"count\"])\n",
    "al = pd.read_csv(\n",
    "    \"data/AL.TXT\", names=[\"state\", \"sex\", \"year\", \"name\", \"count\"])\n",
    "ga = pd.read_csv(\n",
    "    \"data/GA.TXT\", names=[\"state\", \"sex\", \"year\", \"name\", \"count\"])\n",
    "ms = pd.read_csv(\n",
    "    \"data/MS.TXT\", names=[\"state\", \"sex\", \"year\", \"name\", \"count\"])\n",
    "\n",
    "southnames = pd.concat([tn, al, ga, ms], axis=0)\n",
    "\n",
    "\n",
    "pivot1 = pd.pivot_table(southnames, values='count', index=[\n",
    "                        'state'], columns=['sex'], aggfunc=np.sum)\n",
    "\n",
    "\n",
    "female_total = np.sum(pivot1['F'])\n",
    "\n",
    "male_total = np.sum(pivot1['M'])\n",
    "\n",
    "\n",
    "\n",
    "bystate = pd.pivot_table(southnames, values='count',\n",
    "                         index=['state'], aggfunc=np.sum)\n",
    "\n",
    "\n",
    "\n",
    "topnames = pd.pivot_table(southnames, values='count',\n",
    "                          index=['name'], aggfunc=np.sum)\n",
    "topnames = topnames.sort_values(by='count', ascending=False)\n",
    "\n",
    "\n",
    "\n",
    "femalenames = pd.pivot_table(southnames[southnames.sex == 'F'], values='count', index=[\n",
    "                             'name'], aggfunc=np.sum).sort_values(by='count', ascending=False)\n",
    "\n",
    "\n",
    "\n",
    "malenames = pd.pivot_table(southnames[southnames.sex == 'M'], values='count', index=[\n",
    "                           'name'], aggfunc=np.sum).sort_values(by='count', ascending=False)\n",
    "\n",
    "\n",
    "\n"
   ]
  },
  {
   "cell_type": "markdown",
   "metadata": {},
   "source": [
    "Part 1\n",
    "\n",
    "In this assignment, you will be creating visualizations based on some of the plots that we looked at in Chapter 9.\n",
    "\n",
    "    1. Create 5 tables based on the 5 most popular names discovered in your last assignment. Each table will be a pivot table of the count of the number of babies born with that name by year.\n",
    "\n",
    "   \n"
   ]
  },
  {
   "cell_type": "code",
   "execution_count": 183,
   "metadata": {},
   "outputs": [
    {
     "data": {
      "text/html": [
       "<div>\n",
       "<style scoped>\n",
       "    .dataframe tbody tr th:only-of-type {\n",
       "        vertical-align: middle;\n",
       "    }\n",
       "\n",
       "    .dataframe tbody tr th {\n",
       "        vertical-align: top;\n",
       "    }\n",
       "\n",
       "    .dataframe thead th {\n",
       "        text-align: right;\n",
       "    }\n",
       "</style>\n",
       "<table border=\"1\" class=\"dataframe\">\n",
       "  <thead>\n",
       "    <tr style=\"text-align: right;\">\n",
       "      <th></th>\n",
       "      <th>count</th>\n",
       "    </tr>\n",
       "    <tr>\n",
       "      <th>name</th>\n",
       "      <th></th>\n",
       "    </tr>\n",
       "  </thead>\n",
       "  <tbody>\n",
       "    <tr>\n",
       "      <th>James</th>\n",
       "      <td>636569</td>\n",
       "    </tr>\n",
       "    <tr>\n",
       "      <th>Mary</th>\n",
       "      <td>436895</td>\n",
       "    </tr>\n",
       "    <tr>\n",
       "      <th>William</th>\n",
       "      <td>424178</td>\n",
       "    </tr>\n",
       "    <tr>\n",
       "      <th>John</th>\n",
       "      <td>390960</td>\n",
       "    </tr>\n",
       "    <tr>\n",
       "      <th>Robert</th>\n",
       "      <td>355304</td>\n",
       "    </tr>\n",
       "  </tbody>\n",
       "</table>\n",
       "</div>"
      ],
      "text/plain": [
       "          count\n",
       "name           \n",
       "James    636569\n",
       "Mary     436895\n",
       "William  424178\n",
       "John     390960\n",
       "Robert   355304"
      ]
     },
     "execution_count": 183,
     "metadata": {},
     "output_type": "execute_result"
    }
   ],
   "source": [
    "topnames[0:5]"
   ]
  },
  {
   "cell_type": "code",
   "execution_count": 184,
   "metadata": {},
   "outputs": [],
   "source": [
    "# Create 5 tables based on the 5 most popular names discovered in your last assignment.\n",
    "# Each table will be a pivot table of the count of the number of babies born\n",
    "# with that name by year.\n"
   ]
  },
  {
   "cell_type": "code",
   "execution_count": 185,
   "metadata": {},
   "outputs": [
    {
     "name": "stdout",
     "output_type": "stream",
     "text": [
      "               count\n",
      "name  year          \n",
      "James 1910.0  2054.0\n",
      "      1911.0  2013.0\n",
      "      1912.0  3397.0\n",
      "      1913.0  3957.0\n",
      "      1914.0  4962.0\n"
     ]
    }
   ],
   "source": [
    "\n",
    "james = pd.pivot_table(southnames.where(\n",
    "    southnames['name'] == 'James'), values='count', index=['name', 'year'], aggfunc=np.sum)\n",
    "print(james.head())\n"
   ]
  },
  {
   "cell_type": "code",
   "execution_count": 186,
   "metadata": {},
   "outputs": [
    {
     "name": "stdout",
     "output_type": "stream",
     "text": [
      "              count\n",
      "name year          \n",
      "Mary 1910.0  3221.0\n",
      "     1911.0  3041.0\n",
      "     1912.0  3897.0\n",
      "     1913.0  4288.0\n",
      "     1914.0  5033.0\n"
     ]
    }
   ],
   "source": [
    "\n",
    "mary = pd.pivot_table(southnames.where(\n",
    "    southnames['name'] == 'Mary'), values='count', index=['name', 'year'], aggfunc=np.sum)\n",
    "print(mary.head())\n"
   ]
  },
  {
   "cell_type": "code",
   "execution_count": 187,
   "metadata": {},
   "outputs": [
    {
     "name": "stdout",
     "output_type": "stream",
     "text": [
      "                 count\n",
      "name    year          \n",
      "William 1910.0  1381.0\n",
      "        1911.0  1372.0\n",
      "        1912.0  2367.0\n",
      "        1913.0  2716.0\n",
      "        1914.0  3399.0\n"
     ]
    }
   ],
   "source": [
    "\n",
    "william = pd.pivot_table(southnames.where(\n",
    "    southnames['name'] == 'William'), values='count', index=['name', 'year'], aggfunc=np.sum)\n",
    "print(william.head())\n"
   ]
  },
  {
   "cell_type": "code",
   "execution_count": 188,
   "metadata": {},
   "outputs": [
    {
     "name": "stdout",
     "output_type": "stream",
     "text": [
      "              count\n",
      "name year          \n",
      "John 1910.0  1677.0\n",
      "     1911.0  1657.0\n",
      "     1912.0  2581.0\n",
      "     1913.0  3008.0\n",
      "     1914.0  3673.0\n"
     ]
    }
   ],
   "source": [
    "\n",
    "john = pd.pivot_table(southnames.where(\n",
    "    southnames['name'] == 'John'), values='count', index=['name', 'year'], aggfunc=np.sum)\n",
    "print(john.head())\n"
   ]
  },
  {
   "cell_type": "code",
   "execution_count": 189,
   "metadata": {},
   "outputs": [
    {
     "name": "stdout",
     "output_type": "stream",
     "text": [
      "                count\n",
      "name   year          \n",
      "Robert 1910.0  1103.0\n",
      "       1911.0  1050.0\n",
      "       1912.0  1709.0\n",
      "       1913.0  1912.0\n",
      "       1914.0  2461.0\n"
     ]
    }
   ],
   "source": [
    "\n",
    "robert = pd.pivot_table(southnames.where(\n",
    "    southnames['name'] == 'Robert'), values='count', index=['name', 'year'], aggfunc=np.sum)\n",
    "print(robert.head())\n",
    "\n"
   ]
  },
  {
   "cell_type": "markdown",
   "metadata": {},
   "source": [
    " 2. Create a line plot visualization of each of those five names on a single plot. Each name should be represented with a single color.\n",
    "\n",
    "        ◦ Each of the plots will be added one at a time to the plot. When you add them, the label will have to be added with it.\n",
    "\n",
    "        ◦ Make sure that your graph has a title. \"5 Most Popular Names from 1910 to Present\".\n",
    "\n",
    "        ◦ Set the x label to be \"Year\".\n",
    "\n",
    "        ◦ Set the y label to be \"Number Born\".\n",
    "\n",
    "        ◦ Set the ticks along the x-axis to be the years from 1910 to the present in 10 year increments.\n",
    "\n",
    "        ◦ Make sure that your graph has a legend of which name goes with which color.\n",
    "        \n",
    "        ◦ There should be enough data for each year to have at least one baby to be born with this name in each year from 1910 to the present, but if you picked states with small populations, this cannot be guaranteed."
   ]
  },
  {
   "cell_type": "code",
   "execution_count": 190,
   "metadata": {},
   "outputs": [],
   "source": [
    "# from tkinter.font import names\n",
    "import matplotlib.pyplot as plt\n",
    "from pandas import DataFrame\n",
    "yearlist = range(1910,2022)\n",
    "yeardf = pd.DataFrame(yearlist)\n",
    "\n"
   ]
  },
  {
   "cell_type": "code",
   "execution_count": 191,
   "metadata": {},
   "outputs": [
    {
     "data": {
      "text/plain": [
       "<AxesSubplot:xlabel='Year', ylabel='Number Born'>"
      ]
     },
     "execution_count": 191,
     "metadata": {},
     "output_type": "execute_result"
    },
    {
     "data": {
      "image/png": "[encoded data removed]",
      "text/plain": [
       "<Figure size 432x288 with 1 Axes>"
      ]
     },
     "metadata": {
      "needs_background": "light"
     },
     "output_type": "display_data"
    }
   ],
   "source": [
    "from matplotlib.pyplot import legend, xlabel, xticks, ylabel\n",
    "\n",
    "\n",
    "jamesmary = pd.merge(\n",
    "    james,\n",
    "    mary,\n",
    "    on=[\"year\"]\n",
    ")\n",
    "# jamesmary\n",
    "williamjohn = pd.merge(\n",
    "    william,\n",
    "    john,\n",
    "    on=[\"year\"]\n",
    ")\n",
    "# williamjohn.head()\n",
    "jmwj = pd.merge(\n",
    "    jamesmary,\n",
    "    williamjohn,\n",
    "    on=[\"year\"]\n",
    ")\n",
    "top_pivot = pd.merge(\n",
    "    jmwj,\n",
    "    robert,\n",
    "    on=[\"year\"]\n",
    ")\n",
    "\n",
    "topnamelist_forgraph = pd.DataFrame(['James', 'Mary', 'William', 'John', 'Robert'])\n",
    "top_pivot.columns = topnamelist_forgraph\n",
    "top_pivot.plot(\n",
    "    xlabel = str(\"Year\"),\n",
    "    ylabel = str(\"Number Born\")\n",
    ")"
   ]
  },
  {
   "cell_type": "markdown",
   "metadata": {},
   "source": [
    "\n",
    "Part 2\n",
    "\n",
    "For part 2 on this assignment, I would like to explore those names which aren't strictly given to female or male babies. Names like \"Mark\" are usually given to males and \"Mary\" are given to females, but what about \"Sam\"? How might we discover the 'Sam' names? I know several people named Sam and among those people are both men and women.\n",
    "\n",
    "Note: To study this problem, I had to use something which I have not taught you yet. Take the \"males\" and \"females\" data set which you compiled in the last homework assignment and perform a \"reset_index\" on them.\n"
   ]
  },
  {
   "cell_type": "code",
   "execution_count": 192,
   "metadata": {},
   "outputs": [],
   "source": [
    "\n",
    "females = femalenames.reset_index()\n",
    "males = malenames.reset_index()\n"
   ]
  },
  {
   "cell_type": "markdown",
   "metadata": {},
   "source": [
    "\n",
    "This will reconfigure the data frames to be strictly rows and columns and remove the multilevel indexing that typically comes from pivot tables.\n",
    "\n",
    "    1. Make sure that your males and females data frames have reset indices. (Shown above.)\n",
    "\n",
    "    2. Merge males and females on the column \"name\". This will produce a column named \"count_x\" and \"count_y\" (depending on how you merge, the \"_x\" will represent one sex and the \"_y\" will represent the other sex, but I can't tell you which one is which without seeing how you merge. If you do \"females.merge(males ...\" then the \"_x\" will be female and \"_y\" will be male and this will align with our chromosomes, which is nice.)\n"
   ]
  },
  {
   "cell_type": "code",
   "execution_count": 193,
   "metadata": {},
   "outputs": [
    {
     "data": {
      "text/html": [
       "<div>\n",
       "<style scoped>\n",
       "    .dataframe tbody tr th:only-of-type {\n",
       "        vertical-align: middle;\n",
       "    }\n",
       "\n",
       "    .dataframe tbody tr th {\n",
       "        vertical-align: top;\n",
       "    }\n",
       "\n",
       "    .dataframe thead th {\n",
       "        text-align: right;\n",
       "    }\n",
       "</style>\n",
       "<table border=\"1\" class=\"dataframe\">\n",
       "  <thead>\n",
       "    <tr style=\"text-align: right;\">\n",
       "      <th></th>\n",
       "      <th>name</th>\n",
       "      <th>count_x</th>\n",
       "      <th>count_y</th>\n",
       "    </tr>\n",
       "  </thead>\n",
       "  <tbody>\n",
       "    <tr>\n",
       "      <th>0</th>\n",
       "      <td>Mary</td>\n",
       "      <td>435186</td>\n",
       "      <td>1709</td>\n",
       "    </tr>\n",
       "    <tr>\n",
       "      <th>1</th>\n",
       "      <td>Betty</td>\n",
       "      <td>131314</td>\n",
       "      <td>355</td>\n",
       "    </tr>\n",
       "    <tr>\n",
       "      <th>2</th>\n",
       "      <td>Linda</td>\n",
       "      <td>124484</td>\n",
       "      <td>137</td>\n",
       "    </tr>\n",
       "    <tr>\n",
       "      <th>3</th>\n",
       "      <td>Elizabeth</td>\n",
       "      <td>123125</td>\n",
       "      <td>23</td>\n",
       "    </tr>\n",
       "    <tr>\n",
       "      <th>4</th>\n",
       "      <td>Dorothy</td>\n",
       "      <td>114678</td>\n",
       "      <td>242</td>\n",
       "    </tr>\n",
       "    <tr>\n",
       "      <th>...</th>\n",
       "      <td>...</td>\n",
       "      <td>...</td>\n",
       "      <td>...</td>\n",
       "    </tr>\n",
       "    <tr>\n",
       "      <th>1091</th>\n",
       "      <td>Louis</td>\n",
       "      <td>5</td>\n",
       "      <td>21842</td>\n",
       "    </tr>\n",
       "    <tr>\n",
       "      <th>1092</th>\n",
       "      <td>Lux</td>\n",
       "      <td>5</td>\n",
       "      <td>10</td>\n",
       "    </tr>\n",
       "    <tr>\n",
       "      <th>1093</th>\n",
       "      <td>Harry</td>\n",
       "      <td>5</td>\n",
       "      <td>23709</td>\n",
       "    </tr>\n",
       "    <tr>\n",
       "      <th>1094</th>\n",
       "      <td>Harlan</td>\n",
       "      <td>5</td>\n",
       "      <td>736</td>\n",
       "    </tr>\n",
       "    <tr>\n",
       "      <th>1095</th>\n",
       "      <td>Luddie</td>\n",
       "      <td>5</td>\n",
       "      <td>5</td>\n",
       "    </tr>\n",
       "  </tbody>\n",
       "</table>\n",
       "<p>1096 rows × 3 columns</p>\n",
       "</div>"
      ],
      "text/plain": [
       "           name  count_x  count_y\n",
       "0          Mary   435186     1709\n",
       "1         Betty   131314      355\n",
       "2         Linda   124484      137\n",
       "3     Elizabeth   123125       23\n",
       "4       Dorothy   114678      242\n",
       "...         ...      ...      ...\n",
       "1091      Louis        5    21842\n",
       "1092        Lux        5       10\n",
       "1093      Harry        5    23709\n",
       "1094     Harlan        5      736\n",
       "1095     Luddie        5        5\n",
       "\n",
       "[1096 rows x 3 columns]"
      ]
     },
     "execution_count": 193,
     "metadata": {},
     "output_type": "execute_result"
    }
   ],
   "source": [
    "allsex = pd.merge(\n",
    "    females,\n",
    "    males,\n",
    "    on=[\"name\"]\n",
    ")\n",
    "allsex"
   ]
  },
  {
   "cell_type": "markdown",
   "metadata": {},
   "source": [
    "\n",
    "    3. Filter out any name without at least 500 names in both sexes. I had to break this up into two lines. There is a way to turn this into a single statement, but I haven't taught you that trick.\n"
   ]
  },
  {
   "cell_type": "code",
   "execution_count": 194,
   "metadata": {},
   "outputs": [],
   "source": [
    "allsex500f = allsex.where(allsex['count_x'] > 500)\n",
    "allsex500 = allsex500f.where(allsex500f['count_y'] > 500).dropna(axis=0)"
   ]
  },
  {
   "cell_type": "markdown",
   "metadata": {},
   "source": [
    "\n",
    "    4. Create a new column (I named mine \"diff\") where you take the absolute value of the difference between \"count_x\" and \"count_y\".\n"
   ]
  },
  {
   "cell_type": "code",
   "execution_count": 195,
   "metadata": {},
   "outputs": [],
   "source": [
    "allsex500[\"diff\"] = abs(allsex500['count_x'] - allsex500['count_y'])"
   ]
  },
  {
   "cell_type": "markdown",
   "metadata": {},
   "source": [
    "\n",
    "    5. Sort by this new column and print the top 10 names that have the smallest difference.\n"
   ]
  },
  {
   "cell_type": "code",
   "execution_count": 196,
   "metadata": {},
   "outputs": [
    {
     "data": {
      "text/html": [
       "<div>\n",
       "<style scoped>\n",
       "    .dataframe tbody tr th:only-of-type {\n",
       "        vertical-align: middle;\n",
       "    }\n",
       "\n",
       "    .dataframe tbody tr th {\n",
       "        vertical-align: top;\n",
       "    }\n",
       "\n",
       "    .dataframe thead th {\n",
       "        text-align: right;\n",
       "    }\n",
       "</style>\n",
       "<table border=\"1\" class=\"dataframe\">\n",
       "  <thead>\n",
       "    <tr style=\"text-align: right;\">\n",
       "      <th></th>\n",
       "      <th>index</th>\n",
       "      <th>name</th>\n",
       "      <th>count_x</th>\n",
       "      <th>count_y</th>\n",
       "      <th>diff</th>\n",
       "    </tr>\n",
       "  </thead>\n",
       "  <tbody>\n",
       "    <tr>\n",
       "      <th>0</th>\n",
       "      <td>400</td>\n",
       "      <td>Oakley</td>\n",
       "      <td>560.0</td>\n",
       "      <td>604.0</td>\n",
       "      <td>44.0</td>\n",
       "    </tr>\n",
       "    <tr>\n",
       "      <th>1</th>\n",
       "      <td>398</td>\n",
       "      <td>Ari</td>\n",
       "      <td>567.0</td>\n",
       "      <td>523.0</td>\n",
       "      <td>44.0</td>\n",
       "    </tr>\n",
       "    <tr>\n",
       "      <th>2</th>\n",
       "      <td>265</td>\n",
       "      <td>Pat</td>\n",
       "      <td>1779.0</td>\n",
       "      <td>1721.0</td>\n",
       "      <td>58.0</td>\n",
       "    </tr>\n",
       "    <tr>\n",
       "      <th>3</th>\n",
       "      <td>378</td>\n",
       "      <td>Ocie</td>\n",
       "      <td>681.0</td>\n",
       "      <td>573.0</td>\n",
       "      <td>108.0</td>\n",
       "    </tr>\n",
       "    <tr>\n",
       "      <th>4</th>\n",
       "      <td>375</td>\n",
       "      <td>Antonia</td>\n",
       "      <td>686.0</td>\n",
       "      <td>563.0</td>\n",
       "      <td>123.0</td>\n",
       "    </tr>\n",
       "    <tr>\n",
       "      <th>5</th>\n",
       "      <td>154</td>\n",
       "      <td>Peyton</td>\n",
       "      <td>7498.0</td>\n",
       "      <td>7677.0</td>\n",
       "      <td>179.0</td>\n",
       "    </tr>\n",
       "    <tr>\n",
       "      <th>6</th>\n",
       "      <td>366</td>\n",
       "      <td>Campbell</td>\n",
       "      <td>730.0</td>\n",
       "      <td>521.0</td>\n",
       "      <td>209.0</td>\n",
       "    </tr>\n",
       "    <tr>\n",
       "      <th>7</th>\n",
       "      <td>349</td>\n",
       "      <td>Ivory</td>\n",
       "      <td>865.0</td>\n",
       "      <td>1092.0</td>\n",
       "      <td>227.0</td>\n",
       "    </tr>\n",
       "    <tr>\n",
       "      <th>8</th>\n",
       "      <td>347</td>\n",
       "      <td>Sage</td>\n",
       "      <td>881.0</td>\n",
       "      <td>558.0</td>\n",
       "      <td>323.0</td>\n",
       "    </tr>\n",
       "    <tr>\n",
       "      <th>9</th>\n",
       "      <td>325</td>\n",
       "      <td>Quinn</td>\n",
       "      <td>1060.0</td>\n",
       "      <td>731.0</td>\n",
       "      <td>329.0</td>\n",
       "    </tr>\n",
       "    <tr>\n",
       "      <th>10</th>\n",
       "      <td>331</td>\n",
       "      <td>Jonnie</td>\n",
       "      <td>963.0</td>\n",
       "      <td>600.0</td>\n",
       "      <td>363.0</td>\n",
       "    </tr>\n",
       "  </tbody>\n",
       "</table>\n",
       "</div>"
      ],
      "text/plain": [
       "    index      name  count_x  count_y   diff\n",
       "0     400    Oakley    560.0    604.0   44.0\n",
       "1     398       Ari    567.0    523.0   44.0\n",
       "2     265       Pat   1779.0   1721.0   58.0\n",
       "3     378      Ocie    681.0    573.0  108.0\n",
       "4     375   Antonia    686.0    563.0  123.0\n",
       "5     154    Peyton   7498.0   7677.0  179.0\n",
       "6     366  Campbell    730.0    521.0  209.0\n",
       "7     349     Ivory    865.0   1092.0  227.0\n",
       "8     347      Sage    881.0    558.0  323.0\n",
       "9     325     Quinn   1060.0    731.0  329.0\n",
       "10    331    Jonnie    963.0    600.0  363.0"
      ]
     },
     "execution_count": 196,
     "metadata": {},
     "output_type": "execute_result"
    }
   ],
   "source": [
    "smallestdiff = allsex500.sort_values(by='diff')[0:11]\n",
    "smallestdiff = smallestdiff.reset_index()\n",
    "smallestdiff"
   ]
  },
  {
   "cell_type": "markdown",
   "metadata": {},
   "source": [
    "\n",
    "    6. Create a bar plot of these names and their\n"
   ]
  },
  {
   "cell_type": "code",
   "execution_count": 197,
   "metadata": {},
   "outputs": [
    {
     "data": {
      "image/png": "[encoded data removed]",
      "text/plain": [
       "<Figure size 432x288 with 1 Axes>"
      ]
     },
     "metadata": {
      "needs_background": "light"
     },
     "output_type": "display_data"
    }
   ],
   "source": [
    "from matplotlib.pyplot import bar\n",
    "smallestdiff = smallestdiff.drop(columns=\"index\")\n",
    "smallestdiff\n",
    "diffplot = smallestdiff.plot.bar()"
   ]
  },
  {
   "cell_type": "markdown",
   "metadata": {},
   "source": [
    "\n",
    "Upload a zip file containing the files that use used or wrote yourself to the drop box on D2L:\n",
    "\n",
    "    • You need your notebook and the data files.\n",
    "\n",
    "    • Make sure your name, CSCI 5015, and the Programming Assignment Number appear in comments in all of your files.\n",
    "\n",
    "    • Note: NO CREDIT will be given to programming assignments that do not compile.\n",
    "    \n",
    "    • Make sure you have compiled and tested your program before handing it in."
   ]
  },
  {
   "cell_type": "code",
   "execution_count": null,
   "metadata": {},
   "outputs": [],
   "source": []
  }
 ],
 "metadata": {
  "kernelspec": {
   "display_name": "Python 3.9.2 64-bit",
   "language": "python",
   "name": "python3"
  },
  "language_info": {
   "codemirror_mode": {
    "name": "ipython",
    "version": 3
   },
   "file_extension": ".py",
   "mimetype": "text/x-python",
   "name": "python",
   "nbconvert_exporter": "python",
   "pygments_lexer": "ipython3",
   "version": "3.9.2"
  },
  "orig_nbformat": 4,
  "vscode": {
   "interpreter": {
    "hash": "0bd840e487967418d9f3fd7988cd58adc980514e4b12e0e79b200728646d598c"
   }
  }
 },
 "nbformat": 4,
 "nbformat_minor": 2
}
