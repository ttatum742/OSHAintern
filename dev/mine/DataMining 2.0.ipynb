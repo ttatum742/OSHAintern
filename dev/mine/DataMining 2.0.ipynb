{
 "cells": [
  {
   "cell_type": "code",
   "execution_count": 1,
   "metadata": {},
   "outputs": [],
   "source": [
    "import json\n",
    "import pandas as pd\n",
    "import csv\n",
    "# import requests\n",
    "# import xml.etree.ElementTree as ET\n",
    "import untangle\n",
    "# import xmltodict\n"
   ]
  },
  {
   "cell_type": "code",
   "execution_count": 2,
   "metadata": {},
   "outputs": [],
   "source": [
    "# url1 = \"https://data.dol.gov/get/inspection/limit/0\"\n",
    "\n",
    "# headers = {\n",
    "# \"X-API-KEY\": \"a0fa3ec0-d89c-439c-9ea8-67f16d69e02f\"\n",
    "# }\n",
    "\n",
    "# resp = requests.get(url1, headers=headers)\n",
    "\n",
    "# if resp.status_code != 200:\n",
    "#     print('error: ' + str(resp.status_code))\n",
    "# else:\n",
    "#     print('Connected to API Successfully')"
   ]
  },
  {
   "cell_type": "code",
   "execution_count": 3,
   "metadata": {},
   "outputs": [],
   "source": [
    "# inspResponseTxt = resp.text\n",
    "# inspDataJSON = json.loads(inspResponseTxt)\n",
    "AccidentAbst = pd.read_csv('F:\\Thomas Tatum\\Documents\\Grad School\\intern\\Dev\\Data\\CSV\\osha_accident_abstract_20221012.csv\\osha_accident_abstract0.csv', low_memory=False)\n",
    "Accident = pd.read_csv('F:\\Thomas Tatum\\Documents\\Grad School\\intern\\Dev\\Data\\CSV\\osha_accident_20221012.csv\\osha_accident.csv', low_memory=False)\n"
   ]
  },
  {
   "cell_type": "code",
   "execution_count": 4,
   "metadata": {},
   "outputs": [],
   "source": [
    "inspection0 = pd.read_csv('F:\\Thomas Tatum\\Documents\\Grad School\\intern\\Dev\\Data\\CSV\\osha_inspection_20221012.csv\\osha_inspection0.csv', low_memory=False)\n",
    "inspection1 = pd.read_csv('F:\\Thomas Tatum\\Documents\\Grad School\\intern\\Dev\\Data\\CSV\\osha_inspection_20221012.csv\\osha_inspection1.csv', low_memory=False)\n",
    "inspection2 = pd.read_csv('F:\\Thomas Tatum\\Documents\\Grad School\\intern\\Dev\\Data\\CSV\\osha_inspection_20221012.csv\\osha_inspection2.csv', low_memory=False)\n",
    "inspection3 = pd.read_csv('F:\\Thomas Tatum\\Documents\\Grad School\\intern\\Dev\\Data\\CSV\\osha_inspection_20221012.csv\\osha_inspection3.csv', low_memory=False)\n",
    "inspection4 = pd.read_csv('F:\\Thomas Tatum\\Documents\\Grad School\\intern\\Dev\\Data\\CSV\\osha_inspection_20221012.csv\\osha_inspection4.csv', low_memory=False)\n",
    "Inspection = pd.concat([inspection0, inspection1, inspection2, inspection3, inspection4])\n"
   ]
  },
  {
   "cell_type": "code",
   "execution_count": 5,
   "metadata": {},
   "outputs": [],
   "source": [
    "# # def parseXML(xmlfile):\n",
    "  \n",
    "#     # create element tree object\n",
    "#     tree = ET.parse(xmlfile)\n",
    "  \n",
    "#     # get root element\n",
    "#     root = tree.getroot()\n",
    "  \n",
    "#     # create empty list for news items\n",
    "#     items = []\n",
    "  \n",
    "#     # iterate news items\n",
    "#     for item in root.findall('./channel/item'):\n",
    "  \n",
    "#         # empty news dictionary\n",
    "#         dict = {}\n",
    "  \n",
    "#         # iterate child elements of item\n",
    "#         for child in item:\n",
    "  \n",
    "#             child.text.encode('utf8')\n",
    "  \n",
    "#         # append news dictionary to news items list\n",
    "#         items.append(dict)\n",
    "      \n",
    "#     # return news items list\n",
    "#     return items\n",
    "  \n",
    "# parseXML('\\Documents\\Grad School\\intern\\Dev\\Data\\\\xml\\Accident\\osha_accident.xml')"
   ]
  },
  {
   "cell_type": "code",
   "execution_count": 6,
   "metadata": {},
   "outputs": [],
   "source": [
    "# # def savetoCSV(items, filename):\n",
    "  \n",
    "#     # specifying the fields for csv file\n",
    "#     fields = ['guid', 'title', 'pubDate', 'description', 'link', 'media']\n",
    "  \n",
    "#     # writing to csv file\n",
    "#     with open(filename, 'w') as csvfile:\n",
    "  \n",
    "#         # creating a csv dict writer object\n",
    "#         writer = csv.DictWriter(csvfile, fieldnames = fields)\n",
    "  \n",
    "#         # writing headers (field names)\n",
    "#         writer.writeheader()\n",
    "  \n",
    "#         # writing data rows\n",
    "#         writer.writerows(newsitems)"
   ]
  },
  {
   "cell_type": "code",
   "execution_count": 7,
   "metadata": {},
   "outputs": [],
   "source": [
    "# obj = untangle.parse('F:\\Thomas Tatum\\Documents\\Grad School\\intern\\Dev\\Data\\\\xml\\Accident\\osha_accident.xml')"
   ]
  },
  {
   "cell_type": "code",
   "execution_count": 8,
   "metadata": {},
   "outputs": [],
   "source": [
    "import glob\n",
    "path = 'F:\\Thomas Tatum\\Documents\\Grad School\\intern\\Dev\\Data\\CSV\\osha_violation_20221012.csv'\n",
    "files = glob.glob(path + \"\\*.csv\")\n",
    "  \n",
    "# # defining an empty list to store \n",
    "# # content\n",
    "data_frame = pd.DataFrame()\n",
    "# content = []\n",
    "  \n",
    "# # checking all the csv files in the specified path\n",
    "for i in files:\n",
    "    \n",
    "    # # reading content of csv file\n",
    "    # content.append(i)\n",
    "    df = pd.read_csv(i, index_col=None, low_memory=False)\n",
    "    # content.append(df)\n",
    "    data_frame = pd.concat([data_frame,df])\n",
    "  \n",
    "# # converting content to data frame\n",
    "# data_frame = pd.concat(content)\n",
    "# print(data_frame)\n",
    "Violations = data_frame"
   ]
  },
  {
   "cell_type": "code",
   "execution_count": 9,
   "metadata": {},
   "outputs": [],
   "source": [
    "AccidentInj = pd.read_csv('F:\\Thomas Tatum\\Documents\\Grad School\\intern\\Dev\\Data\\CSV\\osha_accident_injury_20221012.csv\\osha_accident_injury.csv', low_memory=False)\n",
    "eventCodes = pd.read_csv('F:\\Thomas Tatum\\Documents\\Grad School\\intern\\Dev\\Data\\CSV\\codelist\\event_code_list.csv', low_memory=False)\n",
    "natureCodes = pd.read_csv('F:\\Thomas Tatum\\Documents\\Grad School\\intern\\Dev\\Data\\CSV\\codelist\\\\nature_code_list.csv', low_memory=False)\n",
    "partCodes = pd.read_csv('F:\\Thomas Tatum\\Documents\\Grad School\\intern\\Dev\\Data\\CSV\\codelist\\part_code_list.csv', low_memory=False)\n",
    "srcCodes = pd.read_csv('F:\\Thomas Tatum\\Documents\\Grad School\\intern\\Dev\\Data\\CSV\\codelist\\src_code_list.csv', low_memory=False)"
   ]
  },
  {
   "cell_type": "code",
   "execution_count": 10,
   "metadata": {},
   "outputs": [],
   "source": [
    "comboDF = pd.merge(AccidentInj, Inspection, left_on=['rel_insp_nr'], right_on=['activity_nr'])\n",
    "# \n",
    "comboDF = pd.merge(comboDF, Accident, on=['summary_nr'])\n",
    "# comboDF.head()"
   ]
  },
  {
   "cell_type": "code",
   "execution_count": 11,
   "metadata": {},
   "outputs": [],
   "source": [
    "# comboDF.head()\n",
    "comboDF.to_csv('F:\\Thomas Tatum\\Documents\\Grad School\\intern\\Dev\\Data\\combinedDF.csv')"
   ]
  },
  {
   "cell_type": "code",
   "execution_count": 12,
   "metadata": {},
   "outputs": [
    {
     "data": {
      "text/plain": [
       "['activity_nr',\n",
       " 'reporting_id',\n",
       " 'state_flag',\n",
       " 'estab_name',\n",
       " 'site_address',\n",
       " 'site_city',\n",
       " 'site_state',\n",
       " 'site_zip',\n",
       " 'owner_type',\n",
       " 'owner_code',\n",
       " 'adv_notice',\n",
       " 'safety_hlth',\n",
       " 'sic_code',\n",
       " 'naics_code',\n",
       " 'insp_type',\n",
       " 'insp_scope',\n",
       " 'why_no_insp',\n",
       " 'union_status',\n",
       " 'safety_manuf',\n",
       " 'safety_const',\n",
       " 'safety_marit',\n",
       " 'health_manuf',\n",
       " 'health_const',\n",
       " 'health_marit',\n",
       " 'migrant',\n",
       " 'mail_street',\n",
       " 'mail_city',\n",
       " 'mail_state',\n",
       " 'mail_zip',\n",
       " 'host_est_key',\n",
       " 'nr_in_estab',\n",
       " 'open_date',\n",
       " 'case_mod_date',\n",
       " 'close_conf_date',\n",
       " 'close_case_date',\n",
       " 'ld_dt']"
      ]
     },
     "execution_count": 12,
     "metadata": {},
     "output_type": "execute_result"
    }
   ],
   "source": [
    "list(Inspection.columns.values)"
   ]
  }
 ],
 "metadata": {
  "kernelspec": {
   "display_name": "Python 3.10.8 64-bit",
   "language": "python",
   "name": "python3"
  },
  "language_info": {
   "codemirror_mode": {
    "name": "ipython",
    "version": 3
   },
   "file_extension": ".py",
   "mimetype": "text/x-python",
   "name": "python",
   "nbconvert_exporter": "python",
   "pygments_lexer": "ipython3",
   "version": "3.10.8"
  },
  "orig_nbformat": 4,
  "vscode": {
   "interpreter": {
    "hash": "26de051ba29f2982a8de78e945f0abaf191376122a1563185a90213a26c5da77"
   }
  }
 },
 "nbformat": 4,
 "nbformat_minor": 2
}
