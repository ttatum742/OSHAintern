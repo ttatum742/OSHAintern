{
 "cells": [
  {
   "cell_type": "code",
   "execution_count": 115,
   "metadata": {},
   "outputs": [],
   "source": [
    "## TODO: fix data import addresses "
   ]
  },
  {
   "cell_type": "code",
   "execution_count": 116,
   "metadata": {},
   "outputs": [],
   "source": [
    "# C:\\\\Users\\\\Thomas Tatum\\\\Documents\\\\GitHub\\\\OSHAintern\\\\data\\\\"
   ]
  },
  {
   "cell_type": "code",
   "execution_count": 117,
   "metadata": {},
   "outputs": [],
   "source": [
    "import pandas as pd\n",
    "import numpy as np"
   ]
  },
  {
   "cell_type": "code",
   "execution_count": 118,
   "metadata": {},
   "outputs": [],
   "source": [
    "df = pd.read_csv(\"C:\\\\Users\\\\Thomas Tatum\\\\Documents\\\\GitHub\\\\OSHAintern\\\\data\\\\queryout.csv\",index_col=False, low_memory=False)\n",
    "officialDat = pd.read_csv(\"C:\\\\Users\\\\Thomas Tatum\\\\Documents\\\\GitHub\\\\OSHAintern\\\\data\\\\January2015toApril2022.csv\", encoding=\"latin-1\",\n",
    "low_memory=False)\n",
    "df_allnaics = pd.DataFrame()\n",
    "\n"
   ]
  },
  {
   "cell_type": "code",
   "execution_count": 119,
   "metadata": {},
   "outputs": [],
   "source": [
    "df_allnaics = df.dropna()\n",
    "df_allnaics = df_allnaics[df_allnaics.naics_code != 0]\n"
   ]
  },
  {
   "cell_type": "code",
   "execution_count": 120,
   "metadata": {},
   "outputs": [],
   "source": [
    "# columns needed for basic eda function:\n",
    "# idx, evtdt, ER, cty, st, hosp, amp, nar, pob, evt, src\n",
    "dfPrepro = df_allnaics.drop(['event_type','part_of_body', 'nature_of_inj', 'src_of_injury','degree_of_inj','rel_insp_nr','activity_nr'], axis=1)\n",
    "dfOffic = officialDat[['UPA','EventDate','EventTitle','Final Narrative','Part of Body Title','NatureTitle','SourceTitle','Hospitalized','City','State', 'Employer','Primary NAICS']]\n",
    "\n",
    "\n",
    "\n",
    "dfPrepro.reset_index(drop=True, inplace=True)\n",
    "dfPrepro = dfPrepro.iloc[:,0:12]"
   ]
  },
  {
   "cell_type": "code",
   "execution_count": 121,
   "metadata": {},
   "outputs": [],
   "source": [
    "colnames = dfOffic.columns\n",
    "dfPrepro.columns = colnames"
   ]
  },
  {
   "cell_type": "code",
   "execution_count": 122,
   "metadata": {},
   "outputs": [],
   "source": [
    "def swap_columns(df, col1, col2):\n",
    "    col_list = list(df.columns)\n",
    "    x, y = col_list.index(col1), col_list.index(col2)\n",
    "    col_list[y], col_list[x] = col_list[x], col_list[y]\n",
    "    df = df[col_list]\n",
    "    return df"
   ]
  },
  {
   "cell_type": "code",
   "execution_count": 123,
   "metadata": {},
   "outputs": [],
   "source": [
    "dfPrepro.columns = colnames\n",
    "dfPrepro = dfPrepro.rename(columns={'City':'dum'})\n"
   ]
  },
  {
   "cell_type": "code",
   "execution_count": 124,
   "metadata": {},
   "outputs": [],
   "source": [
    "dfPrepro = dfPrepro.rename(columns={'State':'City'})"
   ]
  },
  {
   "cell_type": "code",
   "execution_count": 125,
   "metadata": {},
   "outputs": [],
   "source": [
    "dfPrepro = dfPrepro.rename(columns={'dum':'State'})"
   ]
  },
  {
   "cell_type": "code",
   "execution_count": 126,
   "metadata": {},
   "outputs": [],
   "source": [
    "dfPrepro = swap_columns(dfPrepro, 'City', 'State')"
   ]
  },
  {
   "cell_type": "code",
   "execution_count": 127,
   "metadata": {},
   "outputs": [
    {
     "name": "stderr",
     "output_type": "stream",
     "text": [
      "C:\\Users\\Thomas Tatum\\AppData\\Local\\Temp\\ipykernel_11152\\431319596.py:1: SettingWithCopyWarning: \n",
      "A value is trying to be set on a copy of a slice from a DataFrame.\n",
      "Try using .loc[row_indexer,col_indexer] = value instead\n",
      "\n",
      "See the caveats in the documentation: https://pandas.pydata.org/pandas-docs/stable/user_guide/indexing.html#returning-a-view-versus-a-copy\n",
      "  dfOffic['Hospitalized'] = dfOffic['Hospitalized'].replace(2, 1)\n",
      "C:\\Users\\Thomas Tatum\\AppData\\Local\\Temp\\ipykernel_11152\\431319596.py:2: SettingWithCopyWarning: \n",
      "A value is trying to be set on a copy of a slice from a DataFrame.\n",
      "Try using .loc[row_indexer,col_indexer] = value instead\n",
      "\n",
      "See the caveats in the documentation: https://pandas.pydata.org/pandas-docs/stable/user_guide/indexing.html#returning-a-view-versus-a-copy\n",
      "  dfOffic['Hospitalized'] = dfOffic['Hospitalized'].replace(3, 1)\n",
      "C:\\Users\\Thomas Tatum\\AppData\\Local\\Temp\\ipykernel_11152\\431319596.py:3: SettingWithCopyWarning: \n",
      "A value is trying to be set on a copy of a slice from a DataFrame.\n",
      "Try using .loc[row_indexer,col_indexer] = value instead\n",
      "\n",
      "See the caveats in the documentation: https://pandas.pydata.org/pandas-docs/stable/user_guide/indexing.html#returning-a-view-versus-a-copy\n",
      "  dfOffic['Hospitalized'] = dfOffic['Hospitalized'].replace(4, 1)\n",
      "C:\\Users\\Thomas Tatum\\AppData\\Local\\Temp\\ipykernel_11152\\431319596.py:4: SettingWithCopyWarning: \n",
      "A value is trying to be set on a copy of a slice from a DataFrame.\n",
      "Try using .loc[row_indexer,col_indexer] = value instead\n",
      "\n",
      "See the caveats in the documentation: https://pandas.pydata.org/pandas-docs/stable/user_guide/indexing.html#returning-a-view-versus-a-copy\n",
      "  dfOffic['Hospitalized'] = dfOffic['Hospitalized'].replace(5, 1)\n",
      "C:\\Users\\Thomas Tatum\\AppData\\Local\\Temp\\ipykernel_11152\\431319596.py:5: SettingWithCopyWarning: \n",
      "A value is trying to be set on a copy of a slice from a DataFrame.\n",
      "Try using .loc[row_indexer,col_indexer] = value instead\n",
      "\n",
      "See the caveats in the documentation: https://pandas.pydata.org/pandas-docs/stable/user_guide/indexing.html#returning-a-view-versus-a-copy\n",
      "  dfOffic['Hospitalized'] = dfOffic['Hospitalized'].replace(6, 1)\n"
     ]
    }
   ],
   "source": [
    "dfOffic['Hospitalized'] = dfOffic['Hospitalized'].replace(2, 1)\n",
    "dfOffic['Hospitalized'] = dfOffic['Hospitalized'].replace(3, 1)\n",
    "dfOffic['Hospitalized'] = dfOffic['Hospitalized'].replace(4, 1)\n",
    "dfOffic['Hospitalized'] = dfOffic['Hospitalized'].replace(5, 1)\n",
    "dfOffic['Hospitalized'] = dfOffic['Hospitalized'].replace(6, 1)"
   ]
  },
  {
   "cell_type": "code",
   "execution_count": 128,
   "metadata": {},
   "outputs": [],
   "source": [
    "# dfOffic['Hospitalized'].unique()"
   ]
  },
  {
   "cell_type": "code",
   "execution_count": 129,
   "metadata": {},
   "outputs": [],
   "source": [
    "both = [dfPrepro,dfOffic]\n",
    "dfconcat = pd.concat(both)\n",
    "# dfconcat.to_csv('F:\\\\Thomas Tatum\\\\Documents\\\\Grad School\\\\intern\\\\Dev\\\\Py\\\\concat.csv')"
   ]
  },
  {
   "cell_type": "code",
   "execution_count": 130,
   "metadata": {},
   "outputs": [],
   "source": [
    "# USstates = pd.read_csv(r'C:\\\\Users\\\\Thomas Tatum\\\\Documents\\\\GitHub\\\\OSHAintern\\\\data\\\\us-states-territories.csv')\n",
    "# condict = USstates.to_dict()\n",
    "## Used the above csv to clean the state column in excel. bringing that in now. "
   ]
  },
  {
   "cell_type": "code",
   "execution_count": 131,
   "metadata": {},
   "outputs": [
    {
     "data": {
      "text/html": [
       "<div>\n",
       "<style scoped>\n",
       "    .dataframe tbody tr th:only-of-type {\n",
       "        vertical-align: middle;\n",
       "    }\n",
       "\n",
       "    .dataframe tbody tr th {\n",
       "        vertical-align: top;\n",
       "    }\n",
       "\n",
       "    .dataframe thead th {\n",
       "        text-align: right;\n",
       "    }\n",
       "</style>\n",
       "<table border=\"1\" class=\"dataframe\">\n",
       "  <thead>\n",
       "    <tr style=\"text-align: right;\">\n",
       "      <th></th>\n",
       "      <th>UPA</th>\n",
       "      <th>EventDate</th>\n",
       "      <th>EventTitle</th>\n",
       "      <th>Final Narrative</th>\n",
       "      <th>Part of Body Title</th>\n",
       "      <th>NatureTitle</th>\n",
       "      <th>SourceTitle</th>\n",
       "      <th>Hospitalized</th>\n",
       "      <th>City</th>\n",
       "      <th>State</th>\n",
       "      <th>Employer</th>\n",
       "      <th>Primary NAICS</th>\n",
       "    </tr>\n",
       "  </thead>\n",
       "  <tbody>\n",
       "    <tr>\n",
       "      <th>0</th>\n",
       "      <td>221279292</td>\n",
       "      <td>7/21/2020 10:07</td>\n",
       "      <td>Fall (From Elevation)</td>\n",
       "      <td>EMPLOYEE FALLS FROM SCAFFOLD, LANDS ON PAINT S...</td>\n",
       "      <td>Neck</td>\n",
       "      <td>Cut/Laceration</td>\n",
       "      <td>Hand Tool (Manual)</td>\n",
       "      <td>Fatal</td>\n",
       "      <td>KEENE</td>\n",
       "      <td>NH</td>\n",
       "      <td>PETER KOPCZYNSKI</td>\n",
       "      <td>238320</td>\n",
       "    </tr>\n",
       "    <tr>\n",
       "      <th>1</th>\n",
       "      <td>221279904</td>\n",
       "      <td>7/16/2020 0:00</td>\n",
       "      <td>Fall (From Elevation)</td>\n",
       "      <td>TWO EMPLOYEES FALL IN UNSECURED TRASH BOX, ONE...</td>\n",
       "      <td>Other Body Systems</td>\n",
       "      <td>Other</td>\n",
       "      <td>Working Surface</td>\n",
       "      <td>Fatal</td>\n",
       "      <td>GLEN RAVEN</td>\n",
       "      <td>NC</td>\n",
       "      <td>145885 - WESCO EXTERIORS, INC</td>\n",
       "      <td>238160</td>\n",
       "    </tr>\n",
       "    <tr>\n",
       "      <th>2</th>\n",
       "      <td>201310638</td>\n",
       "      <td>6/26/2001 13:00</td>\n",
       "      <td>Other</td>\n",
       "      <td>Employee burned when pilot light ignites vapors</td>\n",
       "      <td>Arms Multiple</td>\n",
       "      <td>Burn/scald (Heat)</td>\n",
       "      <td>Chemical Liquids/Vapors</td>\n",
       "      <td>Hospitalized</td>\n",
       "      <td>AVENEL</td>\n",
       "      <td>NJ</td>\n",
       "      <td>EVERGREEN LLC</td>\n",
       "      <td>238330</td>\n",
       "    </tr>\n",
       "    <tr>\n",
       "      <th>3</th>\n",
       "      <td>201310695</td>\n",
       "      <td>5/6/2002 7:17</td>\n",
       "      <td>Caught in or Between</td>\n",
       "      <td>Employee Is Killed When Crushed Between Backho...</td>\n",
       "      <td>Abdomen</td>\n",
       "      <td>Other</td>\n",
       "      <td>Materials Handling equipment</td>\n",
       "      <td>Fatal</td>\n",
       "      <td>EDISON</td>\n",
       "      <td>NJ</td>\n",
       "      <td>ENVIRONMENTAL DESIGNERS, LLC</td>\n",
       "      <td>561730</td>\n",
       "    </tr>\n",
       "    <tr>\n",
       "      <th>4</th>\n",
       "      <td>201310703</td>\n",
       "      <td>5/16/2002 13:30</td>\n",
       "      <td>Shock</td>\n",
       "      <td>ELECTRIC SHOCK - DIRECT CONTACT WITH ENERGIZED...</td>\n",
       "      <td>Arms Multiple</td>\n",
       "      <td>Electric shock</td>\n",
       "      <td>Electrical Apparatus/wiring</td>\n",
       "      <td>Fatal</td>\n",
       "      <td>NEW BRUNSWICK</td>\n",
       "      <td>NJ</td>\n",
       "      <td>VISION POWER SYSTEMS INC.</td>\n",
       "      <td>238210</td>\n",
       "    </tr>\n",
       "  </tbody>\n",
       "</table>\n",
       "</div>"
      ],
      "text/plain": [
       "         UPA        EventDate             EventTitle  \\\n",
       "0  221279292  7/21/2020 10:07  Fall (From Elevation)   \n",
       "1  221279904   7/16/2020 0:00  Fall (From Elevation)   \n",
       "2  201310638  6/26/2001 13:00                  Other   \n",
       "3  201310695    5/6/2002 7:17   Caught in or Between   \n",
       "4  201310703  5/16/2002 13:30                  Shock   \n",
       "\n",
       "                                     Final Narrative  Part of Body Title  \\\n",
       "0  EMPLOYEE FALLS FROM SCAFFOLD, LANDS ON PAINT S...                Neck   \n",
       "1  TWO EMPLOYEES FALL IN UNSECURED TRASH BOX, ONE...  Other Body Systems   \n",
       "2    Employee burned when pilot light ignites vapors       Arms Multiple   \n",
       "3  Employee Is Killed When Crushed Between Backho...             Abdomen   \n",
       "4  ELECTRIC SHOCK - DIRECT CONTACT WITH ENERGIZED...       Arms Multiple   \n",
       "\n",
       "         NatureTitle                   SourceTitle  Hospitalized  \\\n",
       "0     Cut/Laceration            Hand Tool (Manual)         Fatal   \n",
       "1              Other               Working Surface         Fatal   \n",
       "2  Burn/scald (Heat)       Chemical Liquids/Vapors  Hospitalized   \n",
       "3              Other  Materials Handling equipment         Fatal   \n",
       "4     Electric shock   Electrical Apparatus/wiring         Fatal   \n",
       "\n",
       "            City State                       Employer Primary NAICS  \n",
       "0          KEENE    NH               PETER KOPCZYNSKI        238320  \n",
       "1     GLEN RAVEN    NC  145885 - WESCO EXTERIORS, INC        238160  \n",
       "2         AVENEL    NJ                  EVERGREEN LLC        238330  \n",
       "3         EDISON    NJ   ENVIRONMENTAL DESIGNERS, LLC        561730  \n",
       "4  NEW BRUNSWICK    NJ      VISION POWER SYSTEMS INC.        238210  "
      ]
     },
     "execution_count": 131,
     "metadata": {},
     "output_type": "execute_result"
    }
   ],
   "source": [
    "reform = pd.read_csv('C:\\\\Users\\\\Thomas Tatum\\\\Documents\\\\GitHub\\\\OSHAintern\\\\data\\\\concatNew.csv',low_memory=False)\n",
    "reform.head()"
   ]
  },
  {
   "cell_type": "code",
   "execution_count": 132,
   "metadata": {},
   "outputs": [
    {
     "data": {
      "text/plain": [
       "array(['Fatal', 'Hospitalized', 'Non-Hospitalized', '1', '0', '2', '3',\n",
       "       '4', '6', '5'], dtype=object)"
      ]
     },
     "execution_count": 132,
     "metadata": {},
     "output_type": "execute_result"
    }
   ],
   "source": [
    "reform['Hospitalized'].unique()"
   ]
  },
  {
   "cell_type": "code",
   "execution_count": null,
   "metadata": {},
   "outputs": [],
   "source": []
  },
  {
   "cell_type": "code",
   "execution_count": 133,
   "metadata": {},
   "outputs": [],
   "source": [
    "# hospcode = {0:'Fatal', 1:'Hospitalized', 2:'Non-Hospitalized', 3}\n",
    "dumrows = len(reform)\n",
    "# making some dummy data to easily plug into the other program for now\n",
    "index = []\n",
    "counter = 0\n",
    "for i in range(dumrows):\n",
    "    index.append(i)\n",
    "\n",
    "amputsdummy = [0 for _ in range(dumrows)]\n",
    "hospdummy = [0 for _ in range(dumrows)]\n",
    "\n",
    "## TODO: need to make functions to fill these columns with the actual data and then append them to the df\n"
   ]
  },
  {
   "cell_type": "code",
   "execution_count": 134,
   "metadata": {},
   "outputs": [],
   "source": [
    "reform['amp'] = amputsdummy\n",
    "reform['hosp'] = hospdummy"
   ]
  },
  {
   "cell_type": "code",
   "execution_count": 135,
   "metadata": {},
   "outputs": [
    {
     "data": {
      "text/plain": [
       "Index(['UPA', 'EventDate', 'EventTitle', 'Final Narrative',\n",
       "       'Part of Body Title', 'NatureTitle', 'SourceTitle', 'Hospitalized',\n",
       "       'City', 'State', 'Employer', 'Primary NAICS', 'amp', 'hosp'],\n",
       "      dtype='object')"
      ]
     },
     "execution_count": 135,
     "metadata": {},
     "output_type": "execute_result"
    }
   ],
   "source": [
    "reform.columns"
   ]
  },
  {
   "cell_type": "code",
   "execution_count": 136,
   "metadata": {},
   "outputs": [
    {
     "data": {
      "text/html": [
       "<div>\n",
       "<style scoped>\n",
       "    .dataframe tbody tr th:only-of-type {\n",
       "        vertical-align: middle;\n",
       "    }\n",
       "\n",
       "    .dataframe tbody tr th {\n",
       "        vertical-align: top;\n",
       "    }\n",
       "\n",
       "    .dataframe thead th {\n",
       "        text-align: right;\n",
       "    }\n",
       "</style>\n",
       "<table border=\"1\" class=\"dataframe\">\n",
       "  <thead>\n",
       "    <tr style=\"text-align: right;\">\n",
       "      <th></th>\n",
       "      <th>UPA</th>\n",
       "      <th>EventDate</th>\n",
       "      <th>EventTitle</th>\n",
       "      <th>Final Narrative</th>\n",
       "      <th>Part of Body Title</th>\n",
       "      <th>NatureTitle</th>\n",
       "      <th>SourceTitle</th>\n",
       "      <th>degree</th>\n",
       "      <th>City</th>\n",
       "      <th>State</th>\n",
       "      <th>Employer</th>\n",
       "      <th>Primary NAICS</th>\n",
       "      <th>Amputation</th>\n",
       "      <th>Hospitalized</th>\n",
       "    </tr>\n",
       "  </thead>\n",
       "  <tbody>\n",
       "    <tr>\n",
       "      <th>0</th>\n",
       "      <td>221279292</td>\n",
       "      <td>7/21/2020 10:07</td>\n",
       "      <td>Fall (From Elevation)</td>\n",
       "      <td>EMPLOYEE FALLS FROM SCAFFOLD, LANDS ON PAINT S...</td>\n",
       "      <td>Neck</td>\n",
       "      <td>Cut/Laceration</td>\n",
       "      <td>Hand Tool (Manual)</td>\n",
       "      <td>Fatal</td>\n",
       "      <td>KEENE</td>\n",
       "      <td>NH</td>\n",
       "      <td>PETER KOPCZYNSKI</td>\n",
       "      <td>238320</td>\n",
       "      <td>0</td>\n",
       "      <td>0</td>\n",
       "    </tr>\n",
       "    <tr>\n",
       "      <th>1</th>\n",
       "      <td>221279904</td>\n",
       "      <td>7/16/2020 0:00</td>\n",
       "      <td>Fall (From Elevation)</td>\n",
       "      <td>TWO EMPLOYEES FALL IN UNSECURED TRASH BOX, ONE...</td>\n",
       "      <td>Other Body Systems</td>\n",
       "      <td>Other</td>\n",
       "      <td>Working Surface</td>\n",
       "      <td>Fatal</td>\n",
       "      <td>GLEN RAVEN</td>\n",
       "      <td>NC</td>\n",
       "      <td>145885 - WESCO EXTERIORS, INC</td>\n",
       "      <td>238160</td>\n",
       "      <td>0</td>\n",
       "      <td>0</td>\n",
       "    </tr>\n",
       "    <tr>\n",
       "      <th>2</th>\n",
       "      <td>201310638</td>\n",
       "      <td>6/26/2001 13:00</td>\n",
       "      <td>Other</td>\n",
       "      <td>Employee burned when pilot light ignites vapors</td>\n",
       "      <td>Arms Multiple</td>\n",
       "      <td>Burn/scald (Heat)</td>\n",
       "      <td>Chemical Liquids/Vapors</td>\n",
       "      <td>Hospitalized</td>\n",
       "      <td>AVENEL</td>\n",
       "      <td>NJ</td>\n",
       "      <td>EVERGREEN LLC</td>\n",
       "      <td>238330</td>\n",
       "      <td>0</td>\n",
       "      <td>0</td>\n",
       "    </tr>\n",
       "    <tr>\n",
       "      <th>3</th>\n",
       "      <td>201310695</td>\n",
       "      <td>5/6/2002 7:17</td>\n",
       "      <td>Caught in or Between</td>\n",
       "      <td>Employee Is Killed When Crushed Between Backho...</td>\n",
       "      <td>Abdomen</td>\n",
       "      <td>Other</td>\n",
       "      <td>Materials Handling equipment</td>\n",
       "      <td>Fatal</td>\n",
       "      <td>EDISON</td>\n",
       "      <td>NJ</td>\n",
       "      <td>ENVIRONMENTAL DESIGNERS, LLC</td>\n",
       "      <td>561730</td>\n",
       "      <td>0</td>\n",
       "      <td>0</td>\n",
       "    </tr>\n",
       "    <tr>\n",
       "      <th>4</th>\n",
       "      <td>201310703</td>\n",
       "      <td>5/16/2002 13:30</td>\n",
       "      <td>Shock</td>\n",
       "      <td>ELECTRIC SHOCK - DIRECT CONTACT WITH ENERGIZED...</td>\n",
       "      <td>Arms Multiple</td>\n",
       "      <td>Electric shock</td>\n",
       "      <td>Electrical Apparatus/wiring</td>\n",
       "      <td>Fatal</td>\n",
       "      <td>NEW BRUNSWICK</td>\n",
       "      <td>NJ</td>\n",
       "      <td>VISION POWER SYSTEMS INC.</td>\n",
       "      <td>238210</td>\n",
       "      <td>0</td>\n",
       "      <td>0</td>\n",
       "    </tr>\n",
       "  </tbody>\n",
       "</table>\n",
       "</div>"
      ],
      "text/plain": [
       "         UPA        EventDate             EventTitle  \\\n",
       "0  221279292  7/21/2020 10:07  Fall (From Elevation)   \n",
       "1  221279904   7/16/2020 0:00  Fall (From Elevation)   \n",
       "2  201310638  6/26/2001 13:00                  Other   \n",
       "3  201310695    5/6/2002 7:17   Caught in or Between   \n",
       "4  201310703  5/16/2002 13:30                  Shock   \n",
       "\n",
       "                                     Final Narrative  Part of Body Title  \\\n",
       "0  EMPLOYEE FALLS FROM SCAFFOLD, LANDS ON PAINT S...                Neck   \n",
       "1  TWO EMPLOYEES FALL IN UNSECURED TRASH BOX, ONE...  Other Body Systems   \n",
       "2    Employee burned when pilot light ignites vapors       Arms Multiple   \n",
       "3  Employee Is Killed When Crushed Between Backho...             Abdomen   \n",
       "4  ELECTRIC SHOCK - DIRECT CONTACT WITH ENERGIZED...       Arms Multiple   \n",
       "\n",
       "         NatureTitle                   SourceTitle        degree  \\\n",
       "0     Cut/Laceration            Hand Tool (Manual)         Fatal   \n",
       "1              Other               Working Surface         Fatal   \n",
       "2  Burn/scald (Heat)       Chemical Liquids/Vapors  Hospitalized   \n",
       "3              Other  Materials Handling equipment         Fatal   \n",
       "4     Electric shock   Electrical Apparatus/wiring         Fatal   \n",
       "\n",
       "            City State                       Employer Primary NAICS  \\\n",
       "0          KEENE    NH               PETER KOPCZYNSKI        238320   \n",
       "1     GLEN RAVEN    NC  145885 - WESCO EXTERIORS, INC        238160   \n",
       "2         AVENEL    NJ                  EVERGREEN LLC        238330   \n",
       "3         EDISON    NJ   ENVIRONMENTAL DESIGNERS, LLC        561730   \n",
       "4  NEW BRUNSWICK    NJ      VISION POWER SYSTEMS INC.        238210   \n",
       "\n",
       "   Amputation  Hospitalized  \n",
       "0           0             0  \n",
       "1           0             0  \n",
       "2           0             0  \n",
       "3           0             0  \n",
       "4           0             0  "
      ]
     },
     "execution_count": 136,
     "metadata": {},
     "output_type": "execute_result"
    }
   ],
   "source": [
    "reform = reform.rename(columns={'Hospitalized':'degree'}) # is your degree column fucked up in the db????? and why are you just now realizing this??\n",
    "reform = reform.rename(columns={'amp':'Amputation'})\n",
    "reform = reform.rename(columns={'hosp':'Hospitalized'})\n",
    "reform.head()"
   ]
  },
  {
   "cell_type": "code",
   "execution_count": 137,
   "metadata": {},
   "outputs": [],
   "source": [
    "reform['degree'] = reform['degree'].replace('4', 'NULL')\n",
    "reform['degree'] = reform['degree'].replace('5', 'NULL')\n",
    "reform['degree'] = reform['degree'].replace('6', 'NULL')\n",
    "reform['degree'] = reform['degree'].replace('3', 'NULL')\n",
    "reform['degree'] = reform['degree'].replace('2', 'Non-Hospitalized')\n",
    "reform['degree'] = reform['degree'].replace('1', 'Hospitalized')\n",
    "reform['degree'] = reform['degree'].replace('0', 'Fatal')\n",
    "reform = reform[reform.degree != 'NULL']\n"
   ]
  },
  {
   "cell_type": "code",
   "execution_count": 138,
   "metadata": {},
   "outputs": [
    {
     "data": {
      "text/plain": [
       "Counter({'Fatal': 34352, 'Hospitalized': 83772, 'Non-Hospitalized': 7257})"
      ]
     },
     "execution_count": 138,
     "metadata": {},
     "output_type": "execute_result"
    }
   ],
   "source": [
    "from collections import Counter\n",
    "reform['degree'].unique()\n",
    "counter = Counter(reform['degree'])\n",
    "counter"
   ]
  },
  {
   "cell_type": "code",
   "execution_count": null,
   "metadata": {},
   "outputs": [],
   "source": [
    "# def fixbinaries(dat, col):\n",
    "#     if dat['degree']==str(col):\n",
    "#         dat[col] = dat[col].replace('0', 1)\n",
    "#     elif dat['']=str(col):\n",
    "#     elif dat['degree']!=str(col):\n",
    "#         dat[col] = dat[col].replace('0', 0)\n",
    "#     return df"
   ]
  },
  {
   "cell_type": "code",
   "execution_count": 140,
   "metadata": {},
   "outputs": [],
   "source": [
    "# reform.to_csv('C:\\\\Users\\\\Thomas Tatum\\\\Documents\\\\GitHub\\\\OSHAintern\\\\data\\\\reform.csv')"
   ]
  }
 ],
 "metadata": {
  "kernelspec": {
   "display_name": "Python 3.11.0 64-bit",
   "language": "python",
   "name": "python3"
  },
  "language_info": {
   "codemirror_mode": {
    "name": "ipython",
    "version": 3
   },
   "file_extension": ".py",
   "mimetype": "text/x-python",
   "name": "python",
   "nbconvert_exporter": "python",
   "pygments_lexer": "ipython3",
   "version": "3.11.0"
  },
  "orig_nbformat": 4,
  "vscode": {
   "interpreter": {
    "hash": "fbf83a4f67fdad45cb1bc78ec8d9f43bf6f904b7d5ee55a1e8b0d792a8b4dfbf"
   }
  }
 },
 "nbformat": 4,
 "nbformat_minor": 2
}
